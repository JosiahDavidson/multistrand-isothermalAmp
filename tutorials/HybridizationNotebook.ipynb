{
 "cells": [
  {
   "cell_type": "markdown",
   "metadata": {},
   "source": [
    "# Partial hybridization case study notbook"
   ]
  },
  {
   "cell_type": "code",
   "execution_count": 1,
   "metadata": {},
   "outputs": [],
   "source": [
    "from nupack import *"
   ]
  },
  {
   "cell_type": "code",
   "execution_count": 74,
   "metadata": {},
   "outputs": [],
   "source": [
    "# Define physical model \n",
    "my_model = Model(material='dna', celsius=65, sodium=0.050, magnesium=0.008)\n",
    "\n",
    "seq = ['AGTTACGTGCCAGATCAG', 'CTGATCTGGCACGTAACT']\n",
    "\n",
    "ideal_struct = '(5+)20'"
   ]
  },
  {
   "cell_type": "code",
   "execution_count": 75,
   "metadata": {},
   "outputs": [],
   "source": [
    "# Partition function and complex free energy\n",
    "my_pfunc, my_free_energy = pfunc(strands=seq, model=my_model)\n",
    "\n",
    "# Equilibrium pair probability matrix\n",
    "my_pairs = pairs(strands=seq, model=my_model)\n",
    "\n",
    "# MFE procy structure and energy\n",
    "my_mfe = mfe(strands=seq, model=my_model)\n",
    "\n",
    "# Suboptimal proxy structures and energies\n",
    "my_subopt = subopt(strands=seq, model=my_model, energy_gap=1.1)"
   ]
  },
  {
   "cell_type": "code",
   "execution_count": 76,
   "metadata": {},
   "outputs": [
    {
     "name": "stdout",
     "output_type": "stream",
     "text": [
      "Partition function = 1083911992.316234433445684948\n",
      "Complex free energy = -13.97938198337024\n",
      "\n",
      "MFE proxy structure(s):\n",
      "     0: ((((((((((((((((((+)))))))))))))))))) (-11.55 kcal/mol)\n",
      "\n",
      "Suboptimal proxy structure(s):\n",
      "     0: .((((((((((((((((.+.)))))))))))))))). (-12.21 kcal/mol)\n",
      "     1: .((((((((((((((((.+.)))))))))))))))). (-12.21 kcal/mol)\n",
      "     2: .((((((((((((((((.+.)))))))))))))))). (-12.21 kcal/mol)\n",
      "     3: .((((((((((((((((.+.)))))))))))))))). (-12.21 kcal/mol)\n",
      "     4: .((((((((((((((((.+.)))))))))))))))). (-12.21 kcal/mol)\n",
      "     5: .(((((((((((((((..+..))))))))))))))). (-12.01 kcal/mol)\n",
      "     6: .(((((((((((((((..+..))))))))))))))). (-12.01 kcal/mol)\n",
      "     7: .((((((((((((((...+...)))))))))))))). (-12.01 kcal/mol)\n",
      "     8: .((((((((((((((...+...)))))))))))))). (-12.01 kcal/mol)\n",
      "     9: .((((((((((((((...+...)))))))))))))). (-12.01 kcal/mol)\n",
      "    10: .(((((((((((((((((+))))))))))))))))). (-12.00 kcal/mol)\n",
      "    11: .(((((((((((((((((+))))))))))))))))). (-12.00 kcal/mol)\n",
      "    12: .(((((((((((((((((+))))))))))))))))). (-12.00 kcal/mol)\n",
      "    13: .(((((((((((((((((+))))))))))))))))). (-12.00 kcal/mol)\n",
      "    14: (((((((((((((((((.+.))))))))))))))))) (-11.76 kcal/mol)\n",
      "    15: (((((((((((((((((.+.))))))))))))))))) (-11.76 kcal/mol)\n",
      "    16: (((((((((((((((((.+.))))))))))))))))) (-11.76 kcal/mol)\n",
      "    17: ((((((((((((((((..+..)))))))))))))))) (-11.57 kcal/mol)\n",
      "    18: ((((((((((((((((..+..)))))))))))))))) (-11.57 kcal/mol)\n",
      "    19: ((((((((((((((((..+..)))))))))))))))) (-11.57 kcal/mol)\n",
      "    20: (((((((((((((((...+...))))))))))))))) (-11.56 kcal/mol)\n",
      "    21: (((((((((((((((...+...))))))))))))))) (-11.56 kcal/mol)\n",
      "    22: (((((((((((((((...+...))))))))))))))) (-11.56 kcal/mol)\n",
      "    23: ((((((((((((((((((+)))))))))))))))))) (-11.55 kcal/mol)\n",
      "    24: ....((((((((((((((+)))))))))))))).... (-11.50 kcal/mol)\n",
      "    25: ....((((((((((((((+)))))))))))))).... (-11.50 kcal/mol)\n"
     ]
    }
   ],
   "source": [
    "# Print out components of the result for the given complex\n",
    "\n",
    "print('Partition function =', my_pfunc)\n",
    "print('Complex free energy =', my_free_energy)\n",
    "\n",
    "print('\\nMFE proxy structure(s):')\n",
    "for i, s in enumerate(my_mfe):\n",
    "    print('    %2d: %s (%.2f kcal/mol)' % (i, s.structure, s.energy))\n",
    "\n",
    "print('\\nSuboptimal proxy structure(s):')\n",
    "for i, s in enumerate(my_subopt):\n",
    "    print('    %2d: %s (%.2f kcal/mol)' % (i, s.structure, s.energy))"
   ]
  },
  {
   "cell_type": "code",
   "execution_count": 77,
   "metadata": {},
   "outputs": [
    {
     "name": "stdout",
     "output_type": "stream",
     "text": [
      "Bases annealed: 1 \t probability: 6.844579739399771e-09 \t structure: (.................+.................)\n",
      "Bases annealed: 2 \t probability: 3.011759881469026e-08 \t structure: ((................+................))\n",
      "Bases annealed: 3 \t probability: 1.9254355183702077e-07 \t structure: (((...............+...............)))\n",
      "Bases annealed: 4 \t probability: 1.653047215710448e-07 \t structure: ((((..............+..............))))\n",
      "Bases annealed: 5 \t probability: 5.445412771773546e-08 \t structure: (((((.............+.............)))))\n",
      "Bases annealed: 6 \t probability: 1.4610391589135742e-07 \t structure: ((((((............+............))))))\n",
      "Bases annealed: 7 \t probability: 1.7524473291230252e-06 \t structure: (((((((...........+...........)))))))\n",
      "Bases annealed: 8 \t probability: 8.797830290538623e-06 \t structure: ((((((((..........+..........))))))))\n",
      "Bases annealed: 9 \t probability: 1.3993082852368143e-05 \t structure: (((((((((.........+.........)))))))))\n",
      "Bases annealed: 10 \t probability: 9.865684177278052e-05 \t structure: ((((((((((........+........))))))))))\n",
      "Bases annealed: 11 \t probability: 0.0006645126807392612 \t structure: (((((((((((.......+.......)))))))))))\n",
      "Bases annealed: 12 \t probability: 0.0008848752056647515 \t structure: ((((((((((((......+......))))))))))))\n",
      "Bases annealed: 13 \t probability: 0.0070547836131869025 \t structure: (((((((((((((.....+.....)))))))))))))\n",
      "Bases annealed: 14 \t probability: 0.006783597522109918 \t structure: ((((((((((((((....+....))))))))))))))\n",
      "Bases annealed: 15 \t probability: 0.027342762902980888 \t structure: (((((((((((((((...+...)))))))))))))))\n",
      "Bases annealed: 16 \t probability: 0.027738118787936892 \t structure: ((((((((((((((((..+..))))))))))))))))\n",
      "Bases annealed: 17 \t probability: 0.0369365014072015 \t structure: (((((((((((((((((.+.)))))))))))))))))\n",
      "Bases annealed: 18 \t probability: 0.02707396582029623 \t structure: ((((((((((((((((((+))))))))))))))))))\n"
     ]
    }
   ],
   "source": [
    "def buildPartialMeltingStructureStr(seqLen, basesAnnealed):\n",
    "    return \"(\" * basesAnnealed + \".\" * (seqLen - basesAnnealed) + \"+\" + \".\" * (seqLen - basesAnnealed) + \")\" * basesAnnealed\n",
    "\n",
    "for i in range(len(seq[0])):\n",
    "    struct = buildPartialMeltingStructureStr(len(seq[0]), (i+1))\n",
    "    my_prob = structure_probability(strands=seq, structure=struct, model=my_model)\n",
    "    print(f\"Bases annealed: {i+1} \\t probability: {my_prob} \\t structure: {struct}\")"
   ]
  },
  {
   "cell_type": "code",
   "execution_count": null,
   "metadata": {},
   "outputs": [],
   "source": []
  }
 ],
 "metadata": {
  "kernelspec": {
   "display_name": "multistrand",
   "language": "python",
   "name": "python3"
  },
  "language_info": {
   "codemirror_mode": {
    "name": "ipython",
    "version": 3
   },
   "file_extension": ".py",
   "mimetype": "text/x-python",
   "name": "python",
   "nbconvert_exporter": "python",
   "pygments_lexer": "ipython3",
   "version": "3.10.16"
  }
 },
 "nbformat": 4,
 "nbformat_minor": 2
}
